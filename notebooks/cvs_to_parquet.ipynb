{
 "cells": [
  {
   "cell_type": "code",
   "execution_count": 1,
   "id": "94d473e1",
   "metadata": {},
   "outputs": [],
   "source": [
    "import pandas as pd\n",
    "import os"
   ]
  },
  {
   "cell_type": "code",
   "execution_count": 3,
   "id": "a100a310",
   "metadata": {},
   "outputs": [],
   "source": [
    "df = pd.read_csv(os.environ['HOME'] + '/src/blake/data/coffee.csv')"
   ]
  },
  {
   "cell_type": "code",
   "execution_count": 7,
   "id": "6d582f85",
   "metadata": {},
   "outputs": [
    {
     "name": "stdout",
     "output_type": "stream",
     "text": [
      "  coffee_type  has_milk\n",
      "0       black     False\n",
      "1       latte      True\n",
      "2   americano     False\n"
     ]
    }
   ],
   "source": [
    "print(df)"
   ]
  },
  {
   "cell_type": "code",
   "execution_count": 13,
   "id": "f9080f68",
   "metadata": {},
   "outputs": [],
   "source": [
    "out_dirname = '/Users/nhonaitran/src/blake/tmp'"
   ]
  },
  {
   "cell_type": "code",
   "execution_count": 14,
   "id": "d4efbbbd",
   "metadata": {},
   "outputs": [
    {
     "name": "stdout",
     "output_type": "stream",
     "text": [
      "/Users/nhonaitran/src/blake/tmp\n"
     ]
    }
   ],
   "source": [
    "print(out_dirname)"
   ]
  },
  {
   "cell_type": "code",
   "execution_count": 15,
   "id": "6ee16643",
   "metadata": {},
   "outputs": [],
   "source": [
    "os.makedirs(out_dirname, exist_ok=True)"
   ]
  },
  {
   "cell_type": "code",
   "execution_count": 16,
   "id": "b7a03a55",
   "metadata": {},
   "outputs": [],
   "source": [
    "df.to_parquet(out_dirname + '/coffee.parquet')"
   ]
  },
  {
   "cell_type": "code",
   "execution_count": 17,
   "id": "afd58e47",
   "metadata": {},
   "outputs": [],
   "source": [
    "df2 = pd.read_parquet(out_dirname + '/coffee.parquet')"
   ]
  },
  {
   "cell_type": "code",
   "execution_count": 18,
   "id": "2e5ce3a0",
   "metadata": {},
   "outputs": [],
   "source": [
    "coffee_with_milk = df2[df2['has_milk'] == True]"
   ]
  },
  {
   "cell_type": "code",
   "execution_count": 19,
   "id": "8517ed1d",
   "metadata": {},
   "outputs": [
    {
     "data": {
      "text/html": [
       "<div>\n",
       "<style scoped>\n",
       "    .dataframe tbody tr th:only-of-type {\n",
       "        vertical-align: middle;\n",
       "    }\n",
       "\n",
       "    .dataframe tbody tr th {\n",
       "        vertical-align: top;\n",
       "    }\n",
       "\n",
       "    .dataframe thead th {\n",
       "        text-align: right;\n",
       "    }\n",
       "</style>\n",
       "<table border=\"1\" class=\"dataframe\">\n",
       "  <thead>\n",
       "    <tr style=\"text-align: right;\">\n",
       "      <th></th>\n",
       "      <th>coffee_type</th>\n",
       "      <th>has_milk</th>\n",
       "    </tr>\n",
       "  </thead>\n",
       "  <tbody>\n",
       "    <tr>\n",
       "      <th>1</th>\n",
       "      <td>latte</td>\n",
       "      <td>True</td>\n",
       "    </tr>\n",
       "  </tbody>\n",
       "</table>\n",
       "</div>"
      ],
      "text/plain": [
       "  coffee_type  has_milk\n",
       "1       latte      True"
      ]
     },
     "execution_count": 19,
     "metadata": {},
     "output_type": "execute_result"
    }
   ],
   "source": [
    "coffee_with_milk"
   ]
  },
  {
   "cell_type": "code",
   "execution_count": 20,
   "id": "49d22780",
   "metadata": {},
   "outputs": [],
   "source": [
    "coffee_without_milk = df2[df2['has_milk'] == False]"
   ]
  },
  {
   "cell_type": "code",
   "execution_count": 21,
   "id": "8a973dd3",
   "metadata": {},
   "outputs": [
    {
     "data": {
      "text/html": [
       "<div>\n",
       "<style scoped>\n",
       "    .dataframe tbody tr th:only-of-type {\n",
       "        vertical-align: middle;\n",
       "    }\n",
       "\n",
       "    .dataframe tbody tr th {\n",
       "        vertical-align: top;\n",
       "    }\n",
       "\n",
       "    .dataframe thead th {\n",
       "        text-align: right;\n",
       "    }\n",
       "</style>\n",
       "<table border=\"1\" class=\"dataframe\">\n",
       "  <thead>\n",
       "    <tr style=\"text-align: right;\">\n",
       "      <th></th>\n",
       "      <th>coffee_type</th>\n",
       "      <th>has_milk</th>\n",
       "    </tr>\n",
       "  </thead>\n",
       "  <tbody>\n",
       "    <tr>\n",
       "      <th>0</th>\n",
       "      <td>black</td>\n",
       "      <td>False</td>\n",
       "    </tr>\n",
       "    <tr>\n",
       "      <th>2</th>\n",
       "      <td>americano</td>\n",
       "      <td>False</td>\n",
       "    </tr>\n",
       "  </tbody>\n",
       "</table>\n",
       "</div>"
      ],
      "text/plain": [
       "  coffee_type  has_milk\n",
       "0       black     False\n",
       "2   americano     False"
      ]
     },
     "execution_count": 21,
     "metadata": {},
     "output_type": "execute_result"
    }
   ],
   "source": [
    "coffee_without_milk"
   ]
  },
  {
   "cell_type": "code",
   "execution_count": null,
   "id": "9aa6d78e",
   "metadata": {},
   "outputs": [],
   "source": []
  }
 ],
 "metadata": {
  "kernelspec": {
   "display_name": "Python 3 (ipykernel)",
   "language": "python",
   "name": "python3"
  },
  "language_info": {
   "codemirror_mode": {
    "name": "ipython",
    "version": 3
   },
   "file_extension": ".py",
   "mimetype": "text/x-python",
   "name": "python",
   "nbconvert_exporter": "python",
   "pygments_lexer": "ipython3",
   "version": "3.9.9"
  }
 },
 "nbformat": 4,
 "nbformat_minor": 5
}
